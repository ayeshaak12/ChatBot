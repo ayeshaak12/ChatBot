{
 "cells": [
  {
   "cell_type": "code",
   "execution_count": null,
   "id": "c6cd707a-6ff0-4545-9d33-6faf9784bf9b",
   "metadata": {},
   "outputs": [
    {
     "name": "stdin",
     "output_type": "stream",
     "text": [
      "> can you code\n"
     ]
    },
    {
     "name": "stdout",
     "output_type": "stream",
     "text": [
      "I can help you learn coding concepts, but I can’t write complete programs.\n"
     ]
    }
   ],
   "source": [
    "from nltk.chat.util import Chat, reflections\n",
    "\n",
    "pairs=[\n",
    "\n",
    "    ['need help', ['How can I help you?']],\n",
    "    ['what is chatbot', ['Chatbot is a Python program to help you.']],\n",
    "    ['hello', ['Hi there! How can I assist you today?']],\n",
    "    ['hi', ['Hello! How can I help you?']],\n",
    "    ['bye', ['Goodbye! Have a nice day!']],\n",
    "    ['thank you', ['You’re welcome!']],\n",
    "    ['who are you', ['I am a chatbot designed to assist you.']],\n",
    "    ['what is your name', ['I don’t have a name, but you can call me Chatbot.']],\n",
    "    ['how are you', ['I’m just a program, but I’m here to help you!']],\n",
    "    ['tell me a joke', ['Why don’t scientists trust atoms? Because they make up everything!']],\n",
    "    ['what can you do', ['I can assist you with your queries, chat with you, and provide help.']],\n",
    "    ['how does chatbot work', ['Chatbots use predefined rules or machine learning to understand and respond.']],\n",
    "    ['help me with Python', ['Sure! What do you need help with in Python?']],\n",
    "    ['what is AI', ['AI stands for Artificial Intelligence, which enables machines to mimic human intelligence.']],\n",
    "    ['what is machine learning', ['Machine learning is a subset of AI that involves training models to make predictions.']],\n",
    "    ['tell me a fact', ['Did you know the Python programming language was named after Monty Python?']],\n",
    "    ['how to learn programming', ['Start with basic tutorials, practice regularly, and build small projects!']],\n",
    "    ['can you teach me coding', ['Sure, let’s start with the basics! What do you want to learn?']],\n",
    "    ['what is the time', ['I can’t check the time, but you can use a clock or a watch!']],\n",
    "    ['how to build a chatbot', ['You can use Python libraries like NLTK, ChatterBot, or even AI frameworks.']],\n",
    "    ['tell me something interesting', ['Did you know that the first computer virus was created in 1986?']],\n",
    "    ['what is the weather', ['I can’t check the weather, but you can try online weather services!']],\n",
    "    ['how to stay motivated', ['Set goals, take breaks, and reward yourself for progress!']],\n",
    "    ['what is Python', ['Python is a versatile programming language used for web development, data science, and more.']],\n",
    "    ['how to code in Python', ['Start with installing Python and writing simple programs like “Hello, World!”']],\n",
    "    ['what is your favorite color', ['I don’t have preferences, but I hear blue is very popular!']],\n",
    "    ['why are you here', ['I’m here to assist you with your questions and tasks.']],\n",
    "    ['can you sing', ['I can’t sing, but I can try to cheer you up!']],\n",
    "    ['what is love', ['Love is a profound feeling of care and affection.']],\n",
    "    ['what is your purpose', ['My purpose is to help and provide assistance!']],\n",
    "    ['how to debug code', ['Check for syntax errors, use debugging tools, and practice debugging step-by-step!']],\n",
    "    ['tell me about Python libraries', ['Python has many libraries like NumPy, pandas, and TensorFlow for various tasks.']],\n",
    "    ['what is data science', ['Data science is the study of extracting meaningful insights from data.']],\n",
    "    ['who created you', ['I was created by a developer who loves programming!']],\n",
    "    ['how to learn AI', ['Start with basic AI concepts and move on to frameworks like TensorFlow or PyTorch.']],\n",
    "    ['can you code', ['I can help you learn coding concepts, but I can’t write complete programs.']],\n",
    "    ['why is the sky blue', ['The sky appears blue because of the way sunlight interacts with Earth’s atmosphere.']],\n",
    "    ['what is your favorite movie', ['I don’t watch movies, but I hear “The Matrix” is a classic!']],\n",
    "    ['what is programming', ['Programming is the process of creating instructions for computers to follow.']],\n",
    "    ['how to create a website', ['You can use HTML, CSS, and JavaScript to build a website.']]\n",
    "]\n",
    "\n",
    "chat=Chat(pairs,reflections)\n",
    "chat.converse()\n"
   ]
  },
  {
   "cell_type": "code",
   "execution_count": 2,
   "id": "26af43a0-5cf3-4d6c-a1cb-f8a7fdbc300d",
   "metadata": {},
   "outputs": [
    {
     "name": "stdout",
     "output_type": "stream",
     "text": [
      "Requirement already satisfied: nltk in c:\\users\\ayesha k\\anaconda3\\lib\\site-packages (3.9.1)\n",
      "Requirement already satisfied: click in c:\\users\\ayesha k\\anaconda3\\lib\\site-packages (from nltk) (8.1.7)\n",
      "Requirement already satisfied: joblib in c:\\users\\ayesha k\\anaconda3\\lib\\site-packages (from nltk) (1.4.2)\n",
      "Requirement already satisfied: regex>=2021.8.3 in c:\\users\\ayesha k\\anaconda3\\lib\\site-packages (from nltk) (2024.9.11)\n",
      "Requirement already satisfied: tqdm in c:\\users\\ayesha k\\anaconda3\\lib\\site-packages (from nltk) (4.66.5)\n",
      "Requirement already satisfied: colorama in c:\\users\\ayesha k\\anaconda3\\lib\\site-packages (from click->nltk) (0.4.6)\n",
      "Note: you may need to restart the kernel to use updated packages.\n"
     ]
    }
   ],
   "source": [
    "pip install nltk"
   ]
  }
 ],
 "metadata": {
  "kernelspec": {
   "display_name": "Python 3 (ipykernel)",
   "language": "python",
   "name": "python3"
  },
  "language_info": {
   "codemirror_mode": {
    "name": "ipython",
    "version": 3
   },
   "file_extension": ".py",
   "mimetype": "text/x-python",
   "name": "python",
   "nbconvert_exporter": "python",
   "pygments_lexer": "ipython3",
   "version": "3.12.7"
  }
 },
 "nbformat": 4,
 "nbformat_minor": 5
}
